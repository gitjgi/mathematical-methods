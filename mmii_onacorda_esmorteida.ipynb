{
 "cells": [
  {
   "cell_type": "markdown",
   "metadata": {},
   "source": [
    "# Exemple: Ona esmorteida en una corda"
   ]
  },
  {
   "cell_type": "markdown",
   "metadata": {},
   "source": [
    "Preparat per l'assignatura:\n",
    "\n",
    "Mètodes Matemàtics 2\n",
    "\n",
    "Grau de Física\n",
    "\n",
    "Facultat de Física, Universitat de Barcelona"
   ]
  },
  {
   "cell_type": "markdown",
   "metadata": {},
   "source": [
    "(c) Jaume Guasch 2024, \n",
    "Llicència: Creative Commons \n",
    "CC-BY-NC-SA 4.0\n",
    "This work is licensed under CC BY-NC-SA 4.0 https://creativecommons.org/licenses/by-nc-sa/4.0/"
   ]
  },
  {
   "cell_type": "markdown",
   "metadata": {},
   "source": [
    "**NOTA**: el programa online **no guarda l'estat** has de fer-ho tot seguit en una sola sessió."
   ]
  },
  {
   "cell_type": "markdown",
   "metadata": {},
   "source": [
    "## Setup\n",
    "Inicialització dels entorns de càlcul i gràfics"
   ]
  },
  {
   "cell_type": "code",
   "execution_count": null,
   "metadata": {},
   "outputs": [],
   "source": [
    "# Càlcul Simbòlic\n",
    "from sympy import *"
   ]
  },
  {
   "cell_type": "code",
   "execution_count": null,
   "metadata": {},
   "outputs": [],
   "source": [
    "# Gràfics\n",
    "import matplotlib.pyplot as plt"
   ]
  },
  {
   "cell_type": "code",
   "execution_count": null,
   "metadata": {},
   "outputs": [],
   "source": [
    "# Animacions\n",
    "import matplotlib.animation as animation"
   ]
  },
  {
   "cell_type": "code",
   "execution_count": null,
   "metadata": {},
   "outputs": [],
   "source": [
    "# Per càlculs numèrics\n",
    "import numpy as np"
   ]
  },
  {
   "cell_type": "markdown",
   "metadata": {},
   "source": [
    "**ATENCIÓ**\n",
    "Això és necessari per mostrar les animacions dins el notebook.\n",
    "Noteu que **ÉS CONVENIENT PARAR** el gràfic després de veure'l"
   ]
  },
  {
   "cell_type": "code",
   "execution_count": null,
   "metadata": {},
   "outputs": [],
   "source": [
    "# Aquest entorn és només per entorn \"jupyter notebook\", \n",
    "# per posar els gràfics dins el mateix notebook\n",
    "# Comentar aquesta línia en altres entorns:\n",
    "########\n",
    "# Per utlitzar amb entorn online a mybinder.org:\n",
    "# %matplotlib widget\n",
    "########\n",
    "# Si s'utilitza en un entorn \"jupyter notebook\" localment a l'ordinador\n",
    "# cal comentar la linia anterior, i descomentar la següent\n",
    "%matplotlib notebook"
   ]
  },
  {
   "cell_type": "code",
   "execution_count": null,
   "metadata": {},
   "outputs": [],
   "source": [
    "# Per escriure els outputs de forma bonica:\n",
    "init_printing(use_unicode=True)"
   ]
  },
  {
   "cell_type": "code",
   "execution_count": null,
   "metadata": {},
   "outputs": [],
   "source": [
    "# Aquesta funció serveix per fer les animacions.\n",
    "# Donada una certa expressió \"f\" en sympy, que depèn de'x' i 't',\n",
    "# torna un objecte 'line', que és una línia de 'plot'\n",
    "def update_function_x_t(time, xrange, f, line):\n",
    "    '''update_function_x_t(time, xrange, f, line)\n",
    "    function used to animate a wave, for shape \"f\", which depends on sympy symbols 'x' and 't'\n",
    "    time = float : numerical scalar, represents time \n",
    "    xrange = list of floats, a list (or range) of space variable 'x', created for example \n",
    "             as x=np.linspace(-10,10,20)\n",
    "    f = sympy expression, which depends **ONLY** on sympy symbols 'x' and 't'\n",
    "    line = line object from a plot to be updated\n",
    "    '''\n",
    "    # substitute the value of time\n",
    "    f1=f.subs(t,time)\n",
    "    # substitute the value of x. Since x is a range, we have to make it in a loop (comprehension list)\n",
    "    # f2=[f1.subs(x,i) for i in xrange]\n",
    "    # To speed up things, convert f1 to an anonymous lambda function from numpy\n",
    "    f1lambda=lambdify(x,f1,'numpy')\n",
    "    f2=f1lambda(xrange)\n",
    "    line.set_data(xrange,f2)\n",
    "    return line,"
   ]
  },
  {
   "cell_type": "markdown",
   "metadata": {},
   "source": [
    "## Ona esmorteida en una corda\n",
    "\n",
    "y''+y'=d^2 y/dt\n"
   ]
  },
  {
   "cell_type": "markdown",
   "metadata": {},
   "source": [
    "Les variables x, n, m, t les utilitzarem per definir les funcions i les sumes parcials"
   ]
  },
  {
   "cell_type": "code",
   "execution_count": null,
   "metadata": {},
   "outputs": [],
   "source": [
    "x, m, n, t, L=symbols('x m n t L')"
   ]
  },
  {
   "cell_type": "markdown",
   "metadata": {},
   "source": [
    "Funcions Pròpies"
   ]
  },
  {
   "cell_type": "code",
   "execution_count": null,
   "metadata": {},
   "outputs": [],
   "source": [
    "vn=sqrt(2/L)*exp(-x/2)*sin(n*pi*x/L)"
   ]
  },
  {
   "cell_type": "code",
   "execution_count": null,
   "metadata": {},
   "outputs": [],
   "source": [
    "vn"
   ]
  },
  {
   "cell_type": "markdown",
   "metadata": {},
   "source": [
    "Prenem L=10"
   ]
  },
  {
   "cell_type": "code",
   "execution_count": null,
   "metadata": {},
   "outputs": [],
   "source": [
    "vL10n=vn.subs(L,10)"
   ]
  },
  {
   "cell_type": "code",
   "execution_count": null,
   "metadata": {},
   "outputs": [],
   "source": [
    "vL10n"
   ]
  },
  {
   "cell_type": "code",
   "execution_count": null,
   "metadata": {},
   "outputs": [],
   "source": [
    "plot(vL10n.subs(n,1),(x,0,10))"
   ]
  },
  {
   "cell_type": "code",
   "execution_count": null,
   "metadata": {},
   "outputs": [],
   "source": [
    "plot(vL10n.subs(n,1),vL10n.subs(n,2),(x,0,10))"
   ]
  },
  {
   "cell_type": "code",
   "execution_count": null,
   "metadata": {},
   "outputs": [],
   "source": [
    "plot(vL10n.subs(n,1),vL10n.subs(n,2),vL10n.subs(n,3),(x,0,10))"
   ]
  },
  {
   "cell_type": "code",
   "execution_count": null,
   "metadata": {},
   "outputs": [],
   "source": [
    "plot(vL10n.subs(n,1),vL10n.subs(n,2),vL10n.subs(n,3),vL10n.subs(n,4),(x,0,10))"
   ]
  },
  {
   "cell_type": "markdown",
   "metadata": {},
   "source": [
    "### Condicions inicials: g(x)=1"
   ]
  },
  {
   "cell_type": "code",
   "execution_count": null,
   "metadata": {},
   "outputs": [],
   "source": [
    "g=1"
   ]
  },
  {
   "cell_type": "code",
   "execution_count": null,
   "metadata": {},
   "outputs": [],
   "source": [
    "an=integrate(exp(x)*vn*1,(x,0,10))"
   ]
  },
  {
   "cell_type": "code",
   "execution_count": null,
   "metadata": {},
   "outputs": [],
   "source": [
    "an"
   ]
  },
  {
   "cell_type": "code",
   "execution_count": null,
   "metadata": {},
   "outputs": [],
   "source": [
    "an.subs(L,10)"
   ]
  },
  {
   "cell_type": "markdown",
   "metadata": {},
   "source": [
    "Expressió trobada a classe"
   ]
  },
  {
   "cell_type": "code",
   "execution_count": null,
   "metadata": {},
   "outputs": [],
   "source": [
    "bn=sqrt(2/L)*4*n*pi*L*(1-(-1)**n*exp(L/2))/(L**2+4*n**2*pi**2)"
   ]
  },
  {
   "cell_type": "code",
   "execution_count": null,
   "metadata": {},
   "outputs": [],
   "source": [
    "bn"
   ]
  },
  {
   "cell_type": "code",
   "execution_count": null,
   "metadata": {},
   "outputs": [],
   "source": [
    "bn.subs(n,2)"
   ]
  },
  {
   "cell_type": "code",
   "execution_count": null,
   "metadata": {},
   "outputs": [],
   "source": [
    "bL10n=bn.subs(L,10)"
   ]
  },
  {
   "cell_type": "code",
   "execution_count": null,
   "metadata": {},
   "outputs": [],
   "source": [
    "bL10n"
   ]
  },
  {
   "cell_type": "code",
   "execution_count": null,
   "metadata": {},
   "outputs": [],
   "source": [
    "S3=summation( bL10n*vL10n,(n,1,m))"
   ]
  },
  {
   "cell_type": "code",
   "execution_count": null,
   "metadata": {},
   "outputs": [],
   "source": []
  },
  {
   "cell_type": "markdown",
   "metadata": {},
   "source": [
    "Suma dels primers termes, de 0 a m"
   ]
  },
  {
   "cell_type": "markdown",
   "metadata": {},
   "source": [
    "1 terme"
   ]
  },
  {
   "cell_type": "code",
   "execution_count": null,
   "metadata": {},
   "outputs": [],
   "source": [
    "# 1 terme\n",
    "Sumab1=summation(bL10n*vL10n,(n,1,1))\n",
    "Sumab1"
   ]
  },
  {
   "cell_type": "code",
   "execution_count": null,
   "metadata": {},
   "outputs": [],
   "source": [
    "plot(g,Sumab1,(x,0,10))"
   ]
  },
  {
   "cell_type": "code",
   "execution_count": null,
   "metadata": {},
   "outputs": [],
   "source": [
    "# 2 terme2\n",
    "Sumab2=summation(bL10n*vL10n,(n,1,2))\n",
    "Sumab2"
   ]
  },
  {
   "cell_type": "code",
   "execution_count": null,
   "metadata": {},
   "outputs": [],
   "source": [
    "plot(g,Sumab2,(x,0,10))"
   ]
  },
  {
   "cell_type": "code",
   "execution_count": null,
   "metadata": {},
   "outputs": [],
   "source": [
    "# 3 termes\n",
    "Sumab3=summation(bL10n*vL10n,(n,1,3))\n",
    "Sumab3"
   ]
  },
  {
   "cell_type": "code",
   "execution_count": null,
   "metadata": {},
   "outputs": [],
   "source": [
    "plot(g,Sumab3,(x,0,10))"
   ]
  },
  {
   "cell_type": "code",
   "execution_count": null,
   "metadata": {},
   "outputs": [],
   "source": [
    "# 10 termes\n",
    "Sumab10=summation(bL10n*vL10n,(n,1,10))\n",
    "Sumab10"
   ]
  },
  {
   "cell_type": "code",
   "execution_count": null,
   "metadata": {},
   "outputs": [],
   "source": [
    "plot(g,Sumab10,(x,0,10))"
   ]
  },
  {
   "cell_type": "code",
   "execution_count": null,
   "metadata": {},
   "outputs": [],
   "source": [
    "# 50 termes\n",
    "Sumab50=summation(bL10n*vL10n,(n,1,50))\n"
   ]
  },
  {
   "cell_type": "code",
   "execution_count": null,
   "metadata": {},
   "outputs": [],
   "source": [
    "plot(g,Sumab50,(x,0,10))"
   ]
  },
  {
   "cell_type": "markdown",
   "metadata": {},
   "source": [
    "### Condicions inicials: k(x)=x/L (1-x/L)"
   ]
  },
  {
   "cell_type": "code",
   "execution_count": null,
   "metadata": {},
   "outputs": [],
   "source": [
    "k=x/L*(1-x/L)\n",
    "k"
   ]
  },
  {
   "cell_type": "code",
   "execution_count": null,
   "metadata": {},
   "outputs": [],
   "source": [
    "kL10=k.subs(L,10)\n",
    "kL10"
   ]
  },
  {
   "cell_type": "code",
   "execution_count": null,
   "metadata": {},
   "outputs": [],
   "source": [
    "plot(kL10,(x,0,10))"
   ]
  },
  {
   "cell_type": "code",
   "execution_count": null,
   "metadata": {},
   "outputs": [],
   "source": [
    "# coeficients\n",
    "cn=integrate(exp(x)*k*vn,(x,0,L))"
   ]
  },
  {
   "cell_type": "code",
   "execution_count": null,
   "metadata": {},
   "outputs": [],
   "source": [
    "cn"
   ]
  },
  {
   "cell_type": "code",
   "execution_count": null,
   "metadata": {
    "scrolled": true
   },
   "outputs": [],
   "source": [
    "cL10n=cn.subs(L,10)\n",
    "cL10n"
   ]
  },
  {
   "cell_type": "markdown",
   "metadata": {},
   "source": [
    "Gràfica d'un terme, comparat amb la funció total"
   ]
  },
  {
   "cell_type": "code",
   "execution_count": null,
   "metadata": {},
   "outputs": [],
   "source": [
    "#1 terme\n",
    "Sumac1=summation(cL10n*vL10n,(n,1,1))\n",
    "Sumac1"
   ]
  },
  {
   "cell_type": "code",
   "execution_count": null,
   "metadata": {},
   "outputs": [],
   "source": [
    "plot(kL10,Sumac1,(x,0,10))"
   ]
  },
  {
   "cell_type": "code",
   "execution_count": null,
   "metadata": {},
   "outputs": [],
   "source": [
    "#2 termes\n",
    "Sumac2=summation(cL10n*vL10n,(n,1,2))\n",
    "Sumac2"
   ]
  },
  {
   "cell_type": "code",
   "execution_count": null,
   "metadata": {},
   "outputs": [],
   "source": [
    "plot(kL10,Sumac2,(x,0,10))"
   ]
  },
  {
   "cell_type": "code",
   "execution_count": null,
   "metadata": {},
   "outputs": [],
   "source": [
    "#3 termes\n",
    "Sumac3=summation(cL10n*vL10n,(n,1,3))\n"
   ]
  },
  {
   "cell_type": "code",
   "execution_count": null,
   "metadata": {},
   "outputs": [],
   "source": [
    "plot(kL10,Sumac3,(x,0,10))"
   ]
  },
  {
   "cell_type": "code",
   "execution_count": null,
   "metadata": {},
   "outputs": [],
   "source": [
    "#10 termes\n",
    "Sumac10=summation(cL10n*vL10n,(n,1,10))\n"
   ]
  },
  {
   "cell_type": "code",
   "execution_count": null,
   "metadata": {},
   "outputs": [],
   "source": [
    "plot(kL10,Sumac10,(x,0,10))"
   ]
  },
  {
   "cell_type": "markdown",
   "metadata": {},
   "source": [
    "## Evolució temporal\n",
    "c=1\n"
   ]
  },
  {
   "cell_type": "code",
   "execution_count": null,
   "metadata": {},
   "outputs": [],
   "source": [
    "alphan=Rational(1,4) + (n*pi/L)**2\n",
    "alphan"
   ]
  },
  {
   "cell_type": "code",
   "execution_count": null,
   "metadata": {},
   "outputs": [],
   "source": [
    "alphaL10n=alphan.subs(L,10)\n",
    "alphaL10n"
   ]
  },
  {
   "cell_type": "code",
   "execution_count": null,
   "metadata": {},
   "outputs": [],
   "source": [
    "omegaL10n=sqrt(alphaL10n)\n",
    "omegaL10n"
   ]
  },
  {
   "cell_type": "code",
   "execution_count": null,
   "metadata": {},
   "outputs": [],
   "source": [
    "#1 terme\n",
    "Ona1=summation(cL10n*vL10n*cos(omegaL10n*t),(n,1,1)) \n",
    "Ona1"
   ]
  },
  {
   "cell_type": "code",
   "execution_count": null,
   "metadata": {},
   "outputs": [],
   "source": [
    "fig=plt.figure()\n",
    "## Dades de l'animacio\n",
    "XRANGE=np.linspace(0,10,30)\n",
    "TIMERANGE=np.linspace(0,100,200)\n",
    "FUNCTION=Ona1\n",
    "XLIM=(min(XRANGE),max(XRANGE)) #x limits of the plots\n",
    "YLIM=(-1,1) #y limits of the plots\n",
    "##\n",
    "ax=plt.axes(xlim=XLIM,ylim=YLIM)\n",
    "line, = ax.plot([],[])\n",
    "plt.grid()\n",
    "anim1= animation.FuncAnimation(fig, #figure object\n",
    "                               update_function_x_t, #function to animate, in the form defined above\n",
    "                               fargs=(XRANGE,FUNCTION,line),\n",
    "                               frames=TIMERANGE,\n",
    "                               interval=200, #Interval time (in ms) between updates. Lower number for faster animations (default: 200 ms)\n",
    "                               blit=True,repeat=True\n",
    "                               )"
   ]
  },
  {
   "cell_type": "code",
   "execution_count": null,
   "metadata": {},
   "outputs": [],
   "source": [
    "#2 terme2\n",
    "Ona2=summation(cL10n*vL10n*cos(omegaL10n*t),(n,1,2)) \n",
    "Ona2"
   ]
  },
  {
   "cell_type": "code",
   "execution_count": null,
   "metadata": {},
   "outputs": [],
   "source": [
    "fig=plt.figure()\n",
    "## Dades de l'animacio\n",
    "XRANGE=np.linspace(0,10,30)\n",
    "TIMERANGE=np.linspace(0,100,200)\n",
    "FUNCTION=Ona2\n",
    "XLIM=(min(XRANGE),max(XRANGE)) #x limits of the plots\n",
    "YLIM=(-1,1) #y limits of the plots\n",
    "##\n",
    "ax=plt.axes(xlim=XLIM,ylim=YLIM)\n",
    "line, = ax.plot([],[])\n",
    "plt.grid()\n",
    "anim1= animation.FuncAnimation(fig, #figure object\n",
    "                               update_function_x_t, #function to animate, in the form defined above\n",
    "                               fargs=(XRANGE,FUNCTION,line),\n",
    "                               frames=TIMERANGE,\n",
    "                               interval=200, #Interval time (in ms) between updates. Lower number for faster animations (default: 200 ms)\n",
    "                               blit=True,repeat=True\n",
    "                               )"
   ]
  },
  {
   "cell_type": "code",
   "execution_count": null,
   "metadata": {},
   "outputs": [],
   "source": [
    "#10 termes\n",
    "Ona10=summation(cL10n*vL10n*cos(omegaL10n*t),(n,1,10)) \n"
   ]
  },
  {
   "cell_type": "code",
   "execution_count": null,
   "metadata": {},
   "outputs": [],
   "source": [
    "fig=plt.figure()\n",
    "## Dades de l'animacio\n",
    "XRANGE=np.linspace(0,10,30)\n",
    "TIMERANGE=np.linspace(0,100,200)\n",
    "FUNCTION=Ona10\n",
    "XLIM=(min(XRANGE),max(XRANGE)) #x limits of the plots\n",
    "YLIM=(-1,1) #y limits of the plots\n",
    "##\n",
    "ax=plt.axes(xlim=XLIM,ylim=YLIM)\n",
    "line, = ax.plot([],[])\n",
    "plt.grid()\n",
    "anim1= animation.FuncAnimation(fig, #figure object\n",
    "                               update_function_x_t, #function to animate, in the form defined above\n",
    "                               fargs=(XRANGE,FUNCTION,line),\n",
    "                               frames=TIMERANGE,\n",
    "                               interval=200, #Interval time (in ms) between updates. Lower number for faster animations (default: 200 ms)\n",
    "                               blit=True,repeat=True\n",
    "                               )"
   ]
  },
  {
   "cell_type": "code",
   "execution_count": null,
   "metadata": {},
   "outputs": [],
   "source": [
    "#50 termes\n",
    "Ona50=summation(cL10n*vL10n*cos(omegaL10n*t),(n,1,50)) \n"
   ]
  },
  {
   "cell_type": "code",
   "execution_count": null,
   "metadata": {},
   "outputs": [],
   "source": [
    "fig=plt.figure()\n",
    "## Dades de l'animacio\n",
    "XRANGE=np.linspace(0,10,30)\n",
    "TIMERANGE=np.linspace(0,100,200)\n",
    "FUNCTION=Ona50\n",
    "XLIM=(min(XRANGE),max(XRANGE)) #x limits of the plots\n",
    "YLIM=(-1,1) #y limits of the plots\n",
    "##\n",
    "ax=plt.axes(xlim=XLIM,ylim=YLIM)\n",
    "line, = ax.plot([],[])\n",
    "plt.grid()\n",
    "anim1= animation.FuncAnimation(fig, #figure object\n",
    "                               update_function_x_t, #function to animate, in the form defined above\n",
    "                               fargs=(XRANGE,FUNCTION,line),\n",
    "                               frames=TIMERANGE,\n",
    "                               interval=10, #Interval time (in ms) between updates. Lower number for faster animations (default: 200 ms)\n",
    "                               blit=True,repeat=True\n",
    "                               )"
   ]
  }
 ],
 "metadata": {
  "kernelspec": {
   "display_name": "Python 3 (ipykernel)",
   "language": "python",
   "name": "python3"
  },
  "language_info": {
   "codemirror_mode": {
    "name": "ipython",
    "version": 3
   },
   "file_extension": ".py",
   "mimetype": "text/x-python",
   "name": "python",
   "nbconvert_exporter": "python",
   "pygments_lexer": "ipython3",
   "version": "3.11.2"
  }
 },
 "nbformat": 4,
 "nbformat_minor": 4
}
